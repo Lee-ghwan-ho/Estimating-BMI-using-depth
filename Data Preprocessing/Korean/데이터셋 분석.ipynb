{
 "cells": [
  {
   "cell_type": "code",
   "execution_count": 3,
   "id": "4229ea11",
   "metadata": {},
   "outputs": [
    {
     "name": "stdout",
     "output_type": "stream",
     "text": [
      "Filenames have been updated successfully.\n"
     ]
    }
   ],
   "source": [
    "import os\n",
    "\n",
    "# Define the directory where the images are stored\n",
    "directory = r\"C:\\Users\\USER\\Desktop\\korean\\crop_men\"\n",
    "\n",
    "# Iterate through the files in the directory\n",
    "for filename in os.listdir(directory):\n",
    "    # Check if the filename contains '_person'\n",
    "    if '_person' in filename:\n",
    "        # Create the new filename by removing '_person'\n",
    "        new_filename = filename.replace('_person', '')\n",
    "        \n",
    "        # Get the full file paths\n",
    "        old_file = os.path.join(directory, filename)\n",
    "        new_file = os.path.join(directory, new_filename)\n",
    "        \n",
    "        # Rename the file\n",
    "        os.rename(old_file, new_file)\n",
    "\n",
    "print(\"Filenames have been updated successfully.\")\n"
   ]
  },
  {
   "cell_type": "code",
   "execution_count": 4,
   "id": "59301be6",
   "metadata": {},
   "outputs": [
    {
     "name": "stdout",
     "output_type": "stream",
     "text": [
      "Filenames have been updated successfully.\n"
     ]
    }
   ],
   "source": [
    "import os\n",
    "\n",
    "# Define the directory where the images are stored\n",
    "directory = r\"C:\\Users\\USER\\Desktop\\korean\\crop_women\"\n",
    "\n",
    "# Iterate through the files in the directory\n",
    "for filename in os.listdir(directory):\n",
    "    # Check if the filename contains '_person'\n",
    "    if '_person' in filename:\n",
    "        # Create the new filename by removing '_person'\n",
    "        new_filename = filename.replace('_person', '')\n",
    "        \n",
    "        # Get the full file paths\n",
    "        old_file = os.path.join(directory, filename)\n",
    "        new_file = os.path.join(directory, new_filename)\n",
    "        \n",
    "        # Rename the file\n",
    "        os.rename(old_file, new_file)\n",
    "\n",
    "print(\"Filenames have been updated successfully.\")\n"
   ]
  },
  {
   "cell_type": "code",
   "execution_count": 5,
   "id": "814baeba",
   "metadata": {},
   "outputs": [
    {
     "name": "stdout",
     "output_type": "stream",
     "text": [
      "파일 이름이 성공적으로 변경되고 저장되었습니다!\n"
     ]
    }
   ],
   "source": [
    "import os\n",
    "\n",
    "# 원본 이미지가 있는 폴더 경로\n",
    "source_folder = r\"C:\\Users\\USER\\Desktop\\korean\\crop_women\"\n",
    "\n",
    "# 변경된 파일을 저장할 폴더 경로\n",
    "destination_folder = r\"C:\\Users\\USER\\Desktop\\korean\\rename_women\"\n",
    "\n",
    "# 폴더 내 파일 리스트 가져오기\n",
    "files = os.listdir(source_folder)\n",
    "\n",
    "# 저장 폴더가 없으면 생성\n",
    "if not os.path.exists(destination_folder):\n",
    "    os.makedirs(destination_folder)\n",
    "\n",
    "# 파일을 순차적으로 이름 변경하고 저장\n",
    "for i, file in enumerate(files):\n",
    "    # 확장자 분리\n",
    "    file_name, file_ext = os.path.splitext(file)\n",
    "    \n",
    "    # 기존 이름에서 원하는 부분만 추출\n",
    "    parts = file_name.split('_')\n",
    "    \n",
    "    # 새로운 이름 형식 정의 (0000_F_44_161100_5920000)\n",
    "    new_name = f\"{i:04d}_{parts[1]}_{parts[2]}_{parts[3]}00_{parts[4]}0000{file_ext}\"\n",
    "    \n",
    "    # 원본 파일 경로\n",
    "    original_path = os.path.join(source_folder, file)\n",
    "    \n",
    "    # 새로운 파일 경로\n",
    "    new_path = os.path.join(destination_folder, new_name)\n",
    "    \n",
    "    # 파일을 복사해서 새로운 위치에 저장 (이름 변경)\n",
    "    os.rename(original_path, new_path)\n",
    "\n",
    "print(\"파일 이름이 성공적으로 변경되고 저장되었습니다!\")\n",
    "\n"
   ]
  },
  {
   "cell_type": "code",
   "execution_count": null,
   "id": "dce9bb00",
   "metadata": {},
   "outputs": [],
   "source": [
    "import os\n",
    "\n",
    "# 원본 이미지가 있는 폴더 경로\n",
    "source_folder = r\"C:\\Users\\USER\\Desktop\\korean\\crop_women\"\n",
    "\n",
    "# 변경된 파일을 저장할 폴더 경로\n",
    "destination_folder = r\"C:\\Users\\USER\\Desktop\\korean\\rename_women\"\n",
    "\n",
    "# 폴더 내 파일 리스트 가져오기\n",
    "files = os.listdir(source_folder)\n",
    "\n",
    "# 저장 폴더가 없으면 생성\n",
    "if not os.path.exists(destination_folder):\n",
    "    os.makedirs(destination_folder)\n",
    "\n",
    "# 파일을 순차적으로 이름 변경하고 저장\n",
    "for i, file in enumerate(files):\n",
    "    # 확장자 분리\n",
    "    file_name, file_ext = os.path.splitext(file)\n",
    "    \n",
    "    # 기존 이름에서 원하는 부분만 추출\n",
    "    parts = file_name.split('_')\n",
    "    \n",
    "    # 새로운 이름 형식 정의 (0000_F_44_161100_5920000)\n",
    "    new_name = f\"{i:04d}_{parts[1]}_{parts[2]}_{parts[3]}00_{parts[4]}0000{file_ext}\"\n",
    "    \n",
    "    # 원본 파일 경로\n",
    "    original_path = os.path.join(source_folder, file)\n",
    "    \n",
    "    # 새로운 파일 경로\n",
    "    new_path = os.path.join(destination_folder, new_name)\n",
    "    \n",
    "    # 파일을 복사해서 새로운 위치에 저장 (이름 변경)\n",
    "    os.rename(original_path, new_path)\n",
    "\n",
    "print(\"파일 이름이 성공적으로 변경되고 저장되었습니다!\")\n",
    "\n"
   ]
  },
  {
   "cell_type": "code",
   "execution_count": 1,
   "id": "04f99edb",
   "metadata": {},
   "outputs": [
    {
     "name": "stdout",
     "output_type": "stream",
     "text": [
      "파일 이름이 성공적으로 변경되고 저장되었습니다!\n"
     ]
    }
   ],
   "source": [
    "import os\n",
    "\n",
    "# 원본 이미지가 있는 폴더 경로\n",
    "source_folder = r\"C:\\Users\\USER\\Desktop\\korean\\crop_men\"\n",
    "\n",
    "# 변경된 파일을 저장할 폴더 경로\n",
    "destination_folder = r\"C:\\Users\\USER\\Desktop\\korean\\rename_men\"\n",
    "\n",
    "# 폴더 내 파일 리스트 가져오기\n",
    "files = os.listdir(source_folder)\n",
    "\n",
    "# 저장 폴더가 없으면 생성\n",
    "if not os.path.exists(destination_folder):\n",
    "    os.makedirs(destination_folder)\n",
    "\n",
    "# 파일을 순차적으로 이름 변경하고 저장\n",
    "for i, file in enumerate(files):\n",
    "    # 확장자 분리\n",
    "    file_name, file_ext = os.path.splitext(file)\n",
    "    \n",
    "    # 기존 이름에서 원하는 부분만 추출\n",
    "    parts = file_name.split('_')\n",
    "    \n",
    "    # 새로운 이름 형식 정의 (0000_F_44_161100_5920000)\n",
    "    new_name = f\"{i:04d}_{parts[1]}_{parts[2]}_{parts[3]}00_{parts[4]}0000{file_ext}\"\n",
    "    \n",
    "    # 원본 파일 경로\n",
    "    original_path = os.path.join(source_folder, file)\n",
    "    \n",
    "    # 새로운 파일 경로\n",
    "    new_path = os.path.join(destination_folder, new_name)\n",
    "    \n",
    "    # 파일을 복사해서 새로운 위치에 저장 (이름 변경)\n",
    "    os.rename(original_path, new_path)\n",
    "\n",
    "print(\"파일 이름이 성공적으로 변경되고 저장되었습니다!\")\n",
    "\n"
   ]
  }
 ],
 "metadata": {
  "kernelspec": {
   "display_name": "Python 3 (ipykernel)",
   "language": "python",
   "name": "python3"
  },
  "language_info": {
   "codemirror_mode": {
    "name": "ipython",
    "version": 3
   },
   "file_extension": ".py",
   "mimetype": "text/x-python",
   "name": "python",
   "nbconvert_exporter": "python",
   "pygments_lexer": "ipython3",
   "version": "3.10.9"
  }
 },
 "nbformat": 4,
 "nbformat_minor": 5
}
