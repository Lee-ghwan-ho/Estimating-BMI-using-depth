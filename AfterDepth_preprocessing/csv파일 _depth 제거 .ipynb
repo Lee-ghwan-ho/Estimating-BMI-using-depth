{
 "cells": [
  {
   "cell_type": "code",
   "execution_count": 2,
   "id": "ca314fd4",
   "metadata": {},
   "outputs": [
    {
     "name": "stdout",
     "output_type": "stream",
     "text": [
      "Modified CSV file saved to C:/Users/USER/Desktop/predict/predicted_depth_test.csv\n"
     ]
    }
   ],
   "source": [
    "import pandas as pd\n",
    "\n",
    "# Load the CSV file\n",
    "file_path = 'C:/Users/USER/Desktop/predict/predicted_depth_test.csv'\n",
    "df = pd.read_csv(file_path)\n",
    "\n",
    "# Remove '_depth' from the 'Image' column\n",
    "df['Image'] = df['Image'].str.replace('_depth', '')\n",
    "\n",
    "# Save the modified DataFrame back to a CSV file\n",
    "output_path = 'C:/Users/USER/Desktop/predict/predicted_depth_test.csv'\n",
    "df.to_csv(output_path, index=False)\n",
    "\n",
    "print(f\"Modified CSV file saved to {output_path}\")\n"
   ]
  },
  {
   "cell_type": "code",
   "execution_count": 3,
   "id": "5adbf16a",
   "metadata": {},
   "outputs": [
    {
     "name": "stdout",
     "output_type": "stream",
     "text": [
      "Modified CSV file saved to C:\\Users\\USER\\Desktop\\predict\\predicted_depth_val.csv\n"
     ]
    }
   ],
   "source": [
    "import pandas as pd\n",
    "\n",
    "# Load the CSV file\n",
    "file_path = r\"C:\\Users\\USER\\Desktop\\predict\\predicted_depth_val.csv\"\n",
    "df = pd.read_csv(file_path)\n",
    "\n",
    "# Remove '_depth' from the 'Image' column\n",
    "df['Image'] = df['Image'].str.replace('_depth', '')\n",
    "\n",
    "# Save the modified DataFrame back to a CSV file\n",
    "output_path = r\"C:\\Users\\USER\\Desktop\\predict\\predicted_depth_val.csv\"\n",
    "df.to_csv(output_path, index=False)\n",
    "\n",
    "print(f\"Modified CSV file saved to {output_path}\")\n"
   ]
  }
 ],
 "metadata": {
  "kernelspec": {
   "display_name": "Python 3 (ipykernel)",
   "language": "python",
   "name": "python3"
  },
  "language_info": {
   "codemirror_mode": {
    "name": "ipython",
    "version": 3
   },
   "file_extension": ".py",
   "mimetype": "text/x-python",
   "name": "python",
   "nbconvert_exporter": "python",
   "pygments_lexer": "ipython3",
   "version": "3.10.9"
  }
 },
 "nbformat": 4,
 "nbformat_minor": 5
}
