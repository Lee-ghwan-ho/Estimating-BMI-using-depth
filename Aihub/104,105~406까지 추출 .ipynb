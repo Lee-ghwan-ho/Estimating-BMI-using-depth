{
 "cells": [
  {
   "cell_type": "code",
   "execution_count": 1,
   "id": "479a1097",
   "metadata": {},
   "outputs": [
    {
     "name": "stdout",
     "output_type": "stream",
     "text": [
      "Files have been copied successfully.\n"
     ]
    }
   ],
   "source": [
    "import os\n",
    "import shutil\n",
    "\n",
    "# Define source and destination directories\n",
    "source_dir = r\"C:\\Users\\USER\\Desktop\\korean\\allmen\"\n",
    "destination_dir = r\"C:\\Users\\USER\\Desktop\\korean\\men\"\n",
    "\n",
    "# List of valid file endings\n",
    "valid_endings = ['104', '105', '201', '202', '203', '204', '205', '206', \n",
    "                 '301', '302', '303', '304', '305', '306', \n",
    "                 '401', '402', '403', '404', '405', '406']\n",
    "\n",
    "# Create the destination directory if it doesn't exist\n",
    "if not os.path.exists(destination_dir):\n",
    "    os.makedirs(destination_dir)\n",
    "\n",
    "# Iterate through the files in the source directory\n",
    "for filename in os.listdir(source_dir):\n",
    "    # Check if the file name ends with any of the valid endings\n",
    "    if any(filename.endswith(ending) for ending in valid_endings):\n",
    "        # Copy the file to the destination directory\n",
    "        shutil.copy(os.path.join(source_dir, filename), os.path.join(destination_dir, filename))\n",
    "\n",
    "print(\"Files have been copied successfully.\")\n"
   ]
  },
  {
   "cell_type": "code",
   "execution_count": 2,
   "id": "b2eed301",
   "metadata": {},
   "outputs": [
    {
     "name": "stdout",
     "output_type": "stream",
     "text": [
      "Files have been copied successfully.\n"
     ]
    }
   ],
   "source": [
    "import os\n",
    "import shutil\n",
    "\n",
    "# Define source and destination directories\n",
    "source_dir = r\"C:\\Users\\USER\\Desktop\\korean\\allmen\"\n",
    "destination_dir = r\"C:\\Users\\USER\\Desktop\\korean\\men\"\n",
    "\n",
    "# List of valid file endings for the first part of the file name\n",
    "valid_endings = ['104', '105', '201', '202', '203', '204', '205', '206', \n",
    "                 '301', '302', '303', '304', '305', '306', \n",
    "                 '401', '402', '403', '404', '405', '406']\n",
    "\n",
    "# Create the destination directory if it doesn't exist\n",
    "if not os.path.exists(destination_dir):\n",
    "    os.makedirs(destination_dir)\n",
    "\n",
    "# Iterate through the files in the source directory\n",
    "for filename in os.listdir(source_dir):\n",
    "    # Split the file name by underscores to get the first part\n",
    "    first_part = filename.split('_')[0]\n",
    "    \n",
    "    # Check if the first part of the filename ends with any of the valid endings\n",
    "    if any(first_part.endswith(ending) for ending in valid_endings):\n",
    "        # Copy the file to the destination directory\n",
    "        shutil.copy(os.path.join(source_dir, filename), os.path.join(destination_dir, filename))\n",
    "\n",
    "print(\"Files have been copied successfully.\")\n"
   ]
  },
  {
   "cell_type": "code",
   "execution_count": 3,
   "id": "9137f810",
   "metadata": {},
   "outputs": [
    {
     "name": "stdout",
     "output_type": "stream",
     "text": [
      "Files have been copied successfully.\n"
     ]
    }
   ],
   "source": [
    "import os\n",
    "import shutil\n",
    "\n",
    "# Define source and destination directories\n",
    "source_dir = r\"C:\\Users\\USER\\Desktop\\korean\\allwomen\"\n",
    "destination_dir = r\"C:\\Users\\USER\\Desktop\\korean\\women\"\n",
    "\n",
    "# List of valid file endings for the first part of the file name\n",
    "valid_endings = ['104', '105', '201', '202', '203', '204', '205', '206', \n",
    "                 '301', '302', '303', '304', '305', '306', \n",
    "                 '401', '402', '403', '404', '405', '406']\n",
    "\n",
    "# Create the destination directory if it doesn't exist\n",
    "if not os.path.exists(destination_dir):\n",
    "    os.makedirs(destination_dir)\n",
    "\n",
    "# Iterate through the files in the source directory\n",
    "for filename in os.listdir(source_dir):\n",
    "    # Split the file name by underscores to get the first part\n",
    "    first_part = filename.split('_')[0]\n",
    "    \n",
    "    # Check if the first part of the filename ends with any of the valid endings\n",
    "    if any(first_part.endswith(ending) for ending in valid_endings):\n",
    "        # Copy the file to the destination directory\n",
    "        shutil.copy(os.path.join(source_dir, filename), os.path.join(destination_dir, filename))\n",
    "\n",
    "print(\"Files have been copied successfully.\")\n"
   ]
  }
 ],
 "metadata": {
  "kernelspec": {
   "display_name": "Python 3 (ipykernel)",
   "language": "python",
   "name": "python3"
  },
  "language_info": {
   "codemirror_mode": {
    "name": "ipython",
    "version": 3
   },
   "file_extension": ".py",
   "mimetype": "text/x-python",
   "name": "python",
   "nbconvert_exporter": "python",
   "pygments_lexer": "ipython3",
   "version": "3.10.9"
  }
 },
 "nbformat": 4,
 "nbformat_minor": 5
}
